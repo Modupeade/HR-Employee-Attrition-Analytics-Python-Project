{
 "cells": [
  {
   "cell_type": "code",
   "execution_count": 16,
   "id": "2987659a",
   "metadata": {},
   "outputs": [],
   "source": [
    "import pandas as pd\n",
    "import matplotlib as plt"
   ]
  },
  {
   "cell_type": "code",
   "execution_count": 5,
   "id": "3b66d609",
   "metadata": {
    "scrolled": true
   },
   "outputs": [
    {
     "data": {
      "text/html": [
       "<div>\n",
       "<style scoped>\n",
       "    .dataframe tbody tr th:only-of-type {\n",
       "        vertical-align: middle;\n",
       "    }\n",
       "\n",
       "    .dataframe tbody tr th {\n",
       "        vertical-align: top;\n",
       "    }\n",
       "\n",
       "    .dataframe thead th {\n",
       "        text-align: right;\n",
       "    }\n",
       "</style>\n",
       "<table border=\"1\" class=\"dataframe\">\n",
       "  <thead>\n",
       "    <tr style=\"text-align: right;\">\n",
       "      <th></th>\n",
       "      <th>Age</th>\n",
       "      <th>Attrition</th>\n",
       "      <th>BusinessTravel</th>\n",
       "      <th>DailyRate</th>\n",
       "      <th>Department</th>\n",
       "      <th>DistanceFromHome</th>\n",
       "      <th>Education</th>\n",
       "      <th>EducationField</th>\n",
       "      <th>EmployeeCount</th>\n",
       "      <th>EmployeeNumber</th>\n",
       "      <th>...</th>\n",
       "      <th>RelationshipSatisfaction</th>\n",
       "      <th>StandardHours</th>\n",
       "      <th>StockOptionLevel</th>\n",
       "      <th>TotalWorkingYears</th>\n",
       "      <th>TrainingTimesLastYear</th>\n",
       "      <th>WorkLifeBalance</th>\n",
       "      <th>YearsAtCompany</th>\n",
       "      <th>YearsInCurrentRole</th>\n",
       "      <th>YearsSinceLastPromotion</th>\n",
       "      <th>YearsWithCurrManager</th>\n",
       "    </tr>\n",
       "  </thead>\n",
       "  <tbody>\n",
       "    <tr>\n",
       "      <th>0</th>\n",
       "      <td>41</td>\n",
       "      <td>Yes</td>\n",
       "      <td>Travel_Rarely</td>\n",
       "      <td>1102</td>\n",
       "      <td>Sales</td>\n",
       "      <td>1</td>\n",
       "      <td>2</td>\n",
       "      <td>Life Sciences</td>\n",
       "      <td>1</td>\n",
       "      <td>1</td>\n",
       "      <td>...</td>\n",
       "      <td>1</td>\n",
       "      <td>80</td>\n",
       "      <td>0</td>\n",
       "      <td>8</td>\n",
       "      <td>0</td>\n",
       "      <td>1</td>\n",
       "      <td>6</td>\n",
       "      <td>4</td>\n",
       "      <td>0</td>\n",
       "      <td>5</td>\n",
       "    </tr>\n",
       "    <tr>\n",
       "      <th>1</th>\n",
       "      <td>49</td>\n",
       "      <td>No</td>\n",
       "      <td>Travel_Frequently</td>\n",
       "      <td>279</td>\n",
       "      <td>Research &amp; Development</td>\n",
       "      <td>8</td>\n",
       "      <td>1</td>\n",
       "      <td>Life Sciences</td>\n",
       "      <td>1</td>\n",
       "      <td>2</td>\n",
       "      <td>...</td>\n",
       "      <td>4</td>\n",
       "      <td>80</td>\n",
       "      <td>1</td>\n",
       "      <td>10</td>\n",
       "      <td>3</td>\n",
       "      <td>3</td>\n",
       "      <td>10</td>\n",
       "      <td>7</td>\n",
       "      <td>1</td>\n",
       "      <td>7</td>\n",
       "    </tr>\n",
       "    <tr>\n",
       "      <th>2</th>\n",
       "      <td>37</td>\n",
       "      <td>Yes</td>\n",
       "      <td>Travel_Rarely</td>\n",
       "      <td>1373</td>\n",
       "      <td>Research &amp; Development</td>\n",
       "      <td>2</td>\n",
       "      <td>2</td>\n",
       "      <td>Other</td>\n",
       "      <td>1</td>\n",
       "      <td>4</td>\n",
       "      <td>...</td>\n",
       "      <td>2</td>\n",
       "      <td>80</td>\n",
       "      <td>0</td>\n",
       "      <td>7</td>\n",
       "      <td>3</td>\n",
       "      <td>3</td>\n",
       "      <td>0</td>\n",
       "      <td>0</td>\n",
       "      <td>0</td>\n",
       "      <td>0</td>\n",
       "    </tr>\n",
       "    <tr>\n",
       "      <th>3</th>\n",
       "      <td>33</td>\n",
       "      <td>No</td>\n",
       "      <td>Travel_Frequently</td>\n",
       "      <td>1392</td>\n",
       "      <td>Research &amp; Development</td>\n",
       "      <td>3</td>\n",
       "      <td>4</td>\n",
       "      <td>Life Sciences</td>\n",
       "      <td>1</td>\n",
       "      <td>5</td>\n",
       "      <td>...</td>\n",
       "      <td>3</td>\n",
       "      <td>80</td>\n",
       "      <td>0</td>\n",
       "      <td>8</td>\n",
       "      <td>3</td>\n",
       "      <td>3</td>\n",
       "      <td>8</td>\n",
       "      <td>7</td>\n",
       "      <td>3</td>\n",
       "      <td>0</td>\n",
       "    </tr>\n",
       "    <tr>\n",
       "      <th>4</th>\n",
       "      <td>27</td>\n",
       "      <td>No</td>\n",
       "      <td>Travel_Rarely</td>\n",
       "      <td>591</td>\n",
       "      <td>Research &amp; Development</td>\n",
       "      <td>2</td>\n",
       "      <td>1</td>\n",
       "      <td>Medical</td>\n",
       "      <td>1</td>\n",
       "      <td>7</td>\n",
       "      <td>...</td>\n",
       "      <td>4</td>\n",
       "      <td>80</td>\n",
       "      <td>1</td>\n",
       "      <td>6</td>\n",
       "      <td>3</td>\n",
       "      <td>3</td>\n",
       "      <td>2</td>\n",
       "      <td>2</td>\n",
       "      <td>2</td>\n",
       "      <td>2</td>\n",
       "    </tr>\n",
       "  </tbody>\n",
       "</table>\n",
       "<p>5 rows × 35 columns</p>\n",
       "</div>"
      ],
      "text/plain": [
       "   Age Attrition     BusinessTravel  DailyRate              Department  \\\n",
       "0   41       Yes      Travel_Rarely       1102                   Sales   \n",
       "1   49        No  Travel_Frequently        279  Research & Development   \n",
       "2   37       Yes      Travel_Rarely       1373  Research & Development   \n",
       "3   33        No  Travel_Frequently       1392  Research & Development   \n",
       "4   27        No      Travel_Rarely        591  Research & Development   \n",
       "\n",
       "   DistanceFromHome  Education EducationField  EmployeeCount  EmployeeNumber  \\\n",
       "0                 1          2  Life Sciences              1               1   \n",
       "1                 8          1  Life Sciences              1               2   \n",
       "2                 2          2          Other              1               4   \n",
       "3                 3          4  Life Sciences              1               5   \n",
       "4                 2          1        Medical              1               7   \n",
       "\n",
       "   ...  RelationshipSatisfaction StandardHours  StockOptionLevel  \\\n",
       "0  ...                         1            80                 0   \n",
       "1  ...                         4            80                 1   \n",
       "2  ...                         2            80                 0   \n",
       "3  ...                         3            80                 0   \n",
       "4  ...                         4            80                 1   \n",
       "\n",
       "   TotalWorkingYears  TrainingTimesLastYear WorkLifeBalance  YearsAtCompany  \\\n",
       "0                  8                      0               1               6   \n",
       "1                 10                      3               3              10   \n",
       "2                  7                      3               3               0   \n",
       "3                  8                      3               3               8   \n",
       "4                  6                      3               3               2   \n",
       "\n",
       "  YearsInCurrentRole  YearsSinceLastPromotion  YearsWithCurrManager  \n",
       "0                  4                        0                     5  \n",
       "1                  7                        1                     7  \n",
       "2                  0                        0                     0  \n",
       "3                  7                        3                     0  \n",
       "4                  2                        2                     2  \n",
       "\n",
       "[5 rows x 35 columns]"
      ]
     },
     "execution_count": 5,
     "metadata": {},
     "output_type": "execute_result"
    }
   ],
   "source": [
    "data =  pd.read_csv('hr_attrition_employee.csv')\n",
    "data.head(5)"
   ]
  },
  {
   "cell_type": "code",
   "execution_count": 6,
   "id": "5fb584be",
   "metadata": {},
   "outputs": [
    {
     "data": {
      "text/plain": [
       "(1470, 35)"
      ]
     },
     "execution_count": 6,
     "metadata": {},
     "output_type": "execute_result"
    }
   ],
   "source": [
    "data.shape"
   ]
  },
  {
   "cell_type": "code",
   "execution_count": 7,
   "id": "911bf4fa",
   "metadata": {},
   "outputs": [
    {
     "data": {
      "text/plain": [
       "Index(['Age', 'Attrition', 'BusinessTravel', 'DailyRate', 'Department',\n",
       "       'DistanceFromHome', 'Education', 'EducationField', 'EmployeeCount',\n",
       "       'EmployeeNumber', 'EnvironmentSatisfaction', 'Gender', 'HourlyRate',\n",
       "       'JobInvolvement', 'JobLevel', 'JobRole', 'JobSatisfaction',\n",
       "       'MaritalStatus', 'MonthlyIncome', 'MonthlyRate', 'NumCompaniesWorked',\n",
       "       'Over18', 'OverTime', 'PercentSalaryHike', 'PerformanceRating',\n",
       "       'RelationshipSatisfaction', 'StandardHours', 'StockOptionLevel',\n",
       "       'TotalWorkingYears', 'TrainingTimesLastYear', 'WorkLifeBalance',\n",
       "       'YearsAtCompany', 'YearsInCurrentRole', 'YearsSinceLastPromotion',\n",
       "       'YearsWithCurrManager'],\n",
       "      dtype='object')"
      ]
     },
     "execution_count": 7,
     "metadata": {},
     "output_type": "execute_result"
    }
   ],
   "source": [
    "data.columns"
   ]
  },
  {
   "cell_type": "code",
   "execution_count": 8,
   "id": "93457735",
   "metadata": {},
   "outputs": [
    {
     "data": {
      "text/html": [
       "<div>\n",
       "<style scoped>\n",
       "    .dataframe tbody tr th:only-of-type {\n",
       "        vertical-align: middle;\n",
       "    }\n",
       "\n",
       "    .dataframe tbody tr th {\n",
       "        vertical-align: top;\n",
       "    }\n",
       "\n",
       "    .dataframe thead th {\n",
       "        text-align: right;\n",
       "    }\n",
       "</style>\n",
       "<table border=\"1\" class=\"dataframe\">\n",
       "  <thead>\n",
       "    <tr style=\"text-align: right;\">\n",
       "      <th></th>\n",
       "      <th>Age</th>\n",
       "      <th>DailyRate</th>\n",
       "      <th>DistanceFromHome</th>\n",
       "      <th>Education</th>\n",
       "      <th>EmployeeCount</th>\n",
       "      <th>EmployeeNumber</th>\n",
       "      <th>EnvironmentSatisfaction</th>\n",
       "      <th>HourlyRate</th>\n",
       "      <th>JobInvolvement</th>\n",
       "      <th>JobLevel</th>\n",
       "      <th>...</th>\n",
       "      <th>RelationshipSatisfaction</th>\n",
       "      <th>StandardHours</th>\n",
       "      <th>StockOptionLevel</th>\n",
       "      <th>TotalWorkingYears</th>\n",
       "      <th>TrainingTimesLastYear</th>\n",
       "      <th>WorkLifeBalance</th>\n",
       "      <th>YearsAtCompany</th>\n",
       "      <th>YearsInCurrentRole</th>\n",
       "      <th>YearsSinceLastPromotion</th>\n",
       "      <th>YearsWithCurrManager</th>\n",
       "    </tr>\n",
       "  </thead>\n",
       "  <tbody>\n",
       "    <tr>\n",
       "      <th>count</th>\n",
       "      <td>1470.000000</td>\n",
       "      <td>1470.000000</td>\n",
       "      <td>1470.000000</td>\n",
       "      <td>1470.000000</td>\n",
       "      <td>1470.0</td>\n",
       "      <td>1470.000000</td>\n",
       "      <td>1470.000000</td>\n",
       "      <td>1470.000000</td>\n",
       "      <td>1470.000000</td>\n",
       "      <td>1470.000000</td>\n",
       "      <td>...</td>\n",
       "      <td>1470.000000</td>\n",
       "      <td>1470.0</td>\n",
       "      <td>1470.000000</td>\n",
       "      <td>1470.000000</td>\n",
       "      <td>1470.000000</td>\n",
       "      <td>1470.000000</td>\n",
       "      <td>1470.000000</td>\n",
       "      <td>1470.000000</td>\n",
       "      <td>1470.000000</td>\n",
       "      <td>1470.000000</td>\n",
       "    </tr>\n",
       "    <tr>\n",
       "      <th>mean</th>\n",
       "      <td>36.923810</td>\n",
       "      <td>802.485714</td>\n",
       "      <td>9.192517</td>\n",
       "      <td>2.912925</td>\n",
       "      <td>1.0</td>\n",
       "      <td>1024.865306</td>\n",
       "      <td>2.721769</td>\n",
       "      <td>65.891156</td>\n",
       "      <td>2.729932</td>\n",
       "      <td>2.063946</td>\n",
       "      <td>...</td>\n",
       "      <td>2.712245</td>\n",
       "      <td>80.0</td>\n",
       "      <td>0.793878</td>\n",
       "      <td>11.279592</td>\n",
       "      <td>2.799320</td>\n",
       "      <td>2.761224</td>\n",
       "      <td>7.008163</td>\n",
       "      <td>4.229252</td>\n",
       "      <td>2.187755</td>\n",
       "      <td>4.123129</td>\n",
       "    </tr>\n",
       "    <tr>\n",
       "      <th>std</th>\n",
       "      <td>9.135373</td>\n",
       "      <td>403.509100</td>\n",
       "      <td>8.106864</td>\n",
       "      <td>1.024165</td>\n",
       "      <td>0.0</td>\n",
       "      <td>602.024335</td>\n",
       "      <td>1.093082</td>\n",
       "      <td>20.329428</td>\n",
       "      <td>0.711561</td>\n",
       "      <td>1.106940</td>\n",
       "      <td>...</td>\n",
       "      <td>1.081209</td>\n",
       "      <td>0.0</td>\n",
       "      <td>0.852077</td>\n",
       "      <td>7.780782</td>\n",
       "      <td>1.289271</td>\n",
       "      <td>0.706476</td>\n",
       "      <td>6.126525</td>\n",
       "      <td>3.623137</td>\n",
       "      <td>3.222430</td>\n",
       "      <td>3.568136</td>\n",
       "    </tr>\n",
       "    <tr>\n",
       "      <th>min</th>\n",
       "      <td>18.000000</td>\n",
       "      <td>102.000000</td>\n",
       "      <td>1.000000</td>\n",
       "      <td>1.000000</td>\n",
       "      <td>1.0</td>\n",
       "      <td>1.000000</td>\n",
       "      <td>1.000000</td>\n",
       "      <td>30.000000</td>\n",
       "      <td>1.000000</td>\n",
       "      <td>1.000000</td>\n",
       "      <td>...</td>\n",
       "      <td>1.000000</td>\n",
       "      <td>80.0</td>\n",
       "      <td>0.000000</td>\n",
       "      <td>0.000000</td>\n",
       "      <td>0.000000</td>\n",
       "      <td>1.000000</td>\n",
       "      <td>0.000000</td>\n",
       "      <td>0.000000</td>\n",
       "      <td>0.000000</td>\n",
       "      <td>0.000000</td>\n",
       "    </tr>\n",
       "    <tr>\n",
       "      <th>25%</th>\n",
       "      <td>30.000000</td>\n",
       "      <td>465.000000</td>\n",
       "      <td>2.000000</td>\n",
       "      <td>2.000000</td>\n",
       "      <td>1.0</td>\n",
       "      <td>491.250000</td>\n",
       "      <td>2.000000</td>\n",
       "      <td>48.000000</td>\n",
       "      <td>2.000000</td>\n",
       "      <td>1.000000</td>\n",
       "      <td>...</td>\n",
       "      <td>2.000000</td>\n",
       "      <td>80.0</td>\n",
       "      <td>0.000000</td>\n",
       "      <td>6.000000</td>\n",
       "      <td>2.000000</td>\n",
       "      <td>2.000000</td>\n",
       "      <td>3.000000</td>\n",
       "      <td>2.000000</td>\n",
       "      <td>0.000000</td>\n",
       "      <td>2.000000</td>\n",
       "    </tr>\n",
       "    <tr>\n",
       "      <th>50%</th>\n",
       "      <td>36.000000</td>\n",
       "      <td>802.000000</td>\n",
       "      <td>7.000000</td>\n",
       "      <td>3.000000</td>\n",
       "      <td>1.0</td>\n",
       "      <td>1020.500000</td>\n",
       "      <td>3.000000</td>\n",
       "      <td>66.000000</td>\n",
       "      <td>3.000000</td>\n",
       "      <td>2.000000</td>\n",
       "      <td>...</td>\n",
       "      <td>3.000000</td>\n",
       "      <td>80.0</td>\n",
       "      <td>1.000000</td>\n",
       "      <td>10.000000</td>\n",
       "      <td>3.000000</td>\n",
       "      <td>3.000000</td>\n",
       "      <td>5.000000</td>\n",
       "      <td>3.000000</td>\n",
       "      <td>1.000000</td>\n",
       "      <td>3.000000</td>\n",
       "    </tr>\n",
       "    <tr>\n",
       "      <th>75%</th>\n",
       "      <td>43.000000</td>\n",
       "      <td>1157.000000</td>\n",
       "      <td>14.000000</td>\n",
       "      <td>4.000000</td>\n",
       "      <td>1.0</td>\n",
       "      <td>1555.750000</td>\n",
       "      <td>4.000000</td>\n",
       "      <td>83.750000</td>\n",
       "      <td>3.000000</td>\n",
       "      <td>3.000000</td>\n",
       "      <td>...</td>\n",
       "      <td>4.000000</td>\n",
       "      <td>80.0</td>\n",
       "      <td>1.000000</td>\n",
       "      <td>15.000000</td>\n",
       "      <td>3.000000</td>\n",
       "      <td>3.000000</td>\n",
       "      <td>9.000000</td>\n",
       "      <td>7.000000</td>\n",
       "      <td>3.000000</td>\n",
       "      <td>7.000000</td>\n",
       "    </tr>\n",
       "    <tr>\n",
       "      <th>max</th>\n",
       "      <td>60.000000</td>\n",
       "      <td>1499.000000</td>\n",
       "      <td>29.000000</td>\n",
       "      <td>5.000000</td>\n",
       "      <td>1.0</td>\n",
       "      <td>2068.000000</td>\n",
       "      <td>4.000000</td>\n",
       "      <td>100.000000</td>\n",
       "      <td>4.000000</td>\n",
       "      <td>5.000000</td>\n",
       "      <td>...</td>\n",
       "      <td>4.000000</td>\n",
       "      <td>80.0</td>\n",
       "      <td>3.000000</td>\n",
       "      <td>40.000000</td>\n",
       "      <td>6.000000</td>\n",
       "      <td>4.000000</td>\n",
       "      <td>40.000000</td>\n",
       "      <td>18.000000</td>\n",
       "      <td>15.000000</td>\n",
       "      <td>17.000000</td>\n",
       "    </tr>\n",
       "  </tbody>\n",
       "</table>\n",
       "<p>8 rows × 26 columns</p>\n",
       "</div>"
      ],
      "text/plain": [
       "               Age    DailyRate  DistanceFromHome    Education  EmployeeCount  \\\n",
       "count  1470.000000  1470.000000       1470.000000  1470.000000         1470.0   \n",
       "mean     36.923810   802.485714          9.192517     2.912925            1.0   \n",
       "std       9.135373   403.509100          8.106864     1.024165            0.0   \n",
       "min      18.000000   102.000000          1.000000     1.000000            1.0   \n",
       "25%      30.000000   465.000000          2.000000     2.000000            1.0   \n",
       "50%      36.000000   802.000000          7.000000     3.000000            1.0   \n",
       "75%      43.000000  1157.000000         14.000000     4.000000            1.0   \n",
       "max      60.000000  1499.000000         29.000000     5.000000            1.0   \n",
       "\n",
       "       EmployeeNumber  EnvironmentSatisfaction   HourlyRate  JobInvolvement  \\\n",
       "count     1470.000000              1470.000000  1470.000000     1470.000000   \n",
       "mean      1024.865306                 2.721769    65.891156        2.729932   \n",
       "std        602.024335                 1.093082    20.329428        0.711561   \n",
       "min          1.000000                 1.000000    30.000000        1.000000   \n",
       "25%        491.250000                 2.000000    48.000000        2.000000   \n",
       "50%       1020.500000                 3.000000    66.000000        3.000000   \n",
       "75%       1555.750000                 4.000000    83.750000        3.000000   \n",
       "max       2068.000000                 4.000000   100.000000        4.000000   \n",
       "\n",
       "          JobLevel  ...  RelationshipSatisfaction  StandardHours  \\\n",
       "count  1470.000000  ...               1470.000000         1470.0   \n",
       "mean      2.063946  ...                  2.712245           80.0   \n",
       "std       1.106940  ...                  1.081209            0.0   \n",
       "min       1.000000  ...                  1.000000           80.0   \n",
       "25%       1.000000  ...                  2.000000           80.0   \n",
       "50%       2.000000  ...                  3.000000           80.0   \n",
       "75%       3.000000  ...                  4.000000           80.0   \n",
       "max       5.000000  ...                  4.000000           80.0   \n",
       "\n",
       "       StockOptionLevel  TotalWorkingYears  TrainingTimesLastYear  \\\n",
       "count       1470.000000        1470.000000            1470.000000   \n",
       "mean           0.793878          11.279592               2.799320   \n",
       "std            0.852077           7.780782               1.289271   \n",
       "min            0.000000           0.000000               0.000000   \n",
       "25%            0.000000           6.000000               2.000000   \n",
       "50%            1.000000          10.000000               3.000000   \n",
       "75%            1.000000          15.000000               3.000000   \n",
       "max            3.000000          40.000000               6.000000   \n",
       "\n",
       "       WorkLifeBalance  YearsAtCompany  YearsInCurrentRole  \\\n",
       "count      1470.000000     1470.000000         1470.000000   \n",
       "mean          2.761224        7.008163            4.229252   \n",
       "std           0.706476        6.126525            3.623137   \n",
       "min           1.000000        0.000000            0.000000   \n",
       "25%           2.000000        3.000000            2.000000   \n",
       "50%           3.000000        5.000000            3.000000   \n",
       "75%           3.000000        9.000000            7.000000   \n",
       "max           4.000000       40.000000           18.000000   \n",
       "\n",
       "       YearsSinceLastPromotion  YearsWithCurrManager  \n",
       "count              1470.000000           1470.000000  \n",
       "mean                  2.187755              4.123129  \n",
       "std                   3.222430              3.568136  \n",
       "min                   0.000000              0.000000  \n",
       "25%                   0.000000              2.000000  \n",
       "50%                   1.000000              3.000000  \n",
       "75%                   3.000000              7.000000  \n",
       "max                  15.000000             17.000000  \n",
       "\n",
       "[8 rows x 26 columns]"
      ]
     },
     "execution_count": 8,
     "metadata": {},
     "output_type": "execute_result"
    }
   ],
   "source": [
    "data.describe()"
   ]
  },
  {
   "cell_type": "code",
   "execution_count": 9,
   "id": "491462cb",
   "metadata": {},
   "outputs": [
    {
     "name": "stdout",
     "output_type": "stream",
     "text": [
      "<class 'pandas.core.frame.DataFrame'>\n",
      "RangeIndex: 1470 entries, 0 to 1469\n",
      "Data columns (total 35 columns):\n",
      " #   Column                    Non-Null Count  Dtype \n",
      "---  ------                    --------------  ----- \n",
      " 0   Age                       1470 non-null   int64 \n",
      " 1   Attrition                 1470 non-null   object\n",
      " 2   BusinessTravel            1470 non-null   object\n",
      " 3   DailyRate                 1470 non-null   int64 \n",
      " 4   Department                1470 non-null   object\n",
      " 5   DistanceFromHome          1470 non-null   int64 \n",
      " 6   Education                 1470 non-null   int64 \n",
      " 7   EducationField            1470 non-null   object\n",
      " 8   EmployeeCount             1470 non-null   int64 \n",
      " 9   EmployeeNumber            1470 non-null   int64 \n",
      " 10  EnvironmentSatisfaction   1470 non-null   int64 \n",
      " 11  Gender                    1470 non-null   object\n",
      " 12  HourlyRate                1470 non-null   int64 \n",
      " 13  JobInvolvement            1470 non-null   int64 \n",
      " 14  JobLevel                  1470 non-null   int64 \n",
      " 15  JobRole                   1470 non-null   object\n",
      " 16  JobSatisfaction           1470 non-null   int64 \n",
      " 17  MaritalStatus             1470 non-null   object\n",
      " 18  MonthlyIncome             1470 non-null   int64 \n",
      " 19  MonthlyRate               1470 non-null   int64 \n",
      " 20  NumCompaniesWorked        1470 non-null   int64 \n",
      " 21  Over18                    1470 non-null   object\n",
      " 22  OverTime                  1470 non-null   object\n",
      " 23  PercentSalaryHike         1470 non-null   int64 \n",
      " 24  PerformanceRating         1470 non-null   int64 \n",
      " 25  RelationshipSatisfaction  1470 non-null   int64 \n",
      " 26  StandardHours             1470 non-null   int64 \n",
      " 27  StockOptionLevel          1470 non-null   int64 \n",
      " 28  TotalWorkingYears         1470 non-null   int64 \n",
      " 29  TrainingTimesLastYear     1470 non-null   int64 \n",
      " 30  WorkLifeBalance           1470 non-null   int64 \n",
      " 31  YearsAtCompany            1470 non-null   int64 \n",
      " 32  YearsInCurrentRole        1470 non-null   int64 \n",
      " 33  YearsSinceLastPromotion   1470 non-null   int64 \n",
      " 34  YearsWithCurrManager      1470 non-null   int64 \n",
      "dtypes: int64(26), object(9)\n",
      "memory usage: 402.1+ KB\n"
     ]
    }
   ],
   "source": [
    "data.info()"
   ]
  },
  {
   "cell_type": "code",
   "execution_count": 10,
   "id": "eeb53345",
   "metadata": {},
   "outputs": [
    {
     "data": {
      "text/plain": [
       "'Research & Development'"
      ]
     },
     "execution_count": 10,
     "metadata": {},
     "output_type": "execute_result"
    }
   ],
   "source": [
    "specific_row_col = data.iloc[5, 4]\n",
    "specific_row_col"
   ]
  },
  {
   "cell_type": "code",
   "execution_count": 11,
   "id": "958c4ac5",
   "metadata": {},
   "outputs": [
    {
     "data": {
      "text/plain": [
       "'Life Sciences'"
      ]
     },
     "execution_count": 11,
     "metadata": {},
     "output_type": "execute_result"
    }
   ],
   "source": [
    "specific_value = data.loc[5, \"EducationField\"]  # Row with index 5 and a specific column\n",
    "specific_value"
   ]
  },
  {
   "cell_type": "code",
   "execution_count": 12,
   "id": "929e0b25",
   "metadata": {},
   "outputs": [
    {
     "data": {
      "text/plain": [
       "Age                         0\n",
       "Attrition                   0\n",
       "BusinessTravel              0\n",
       "DailyRate                   0\n",
       "Department                  0\n",
       "DistanceFromHome            0\n",
       "Education                   0\n",
       "EducationField              0\n",
       "EmployeeCount               0\n",
       "EmployeeNumber              0\n",
       "EnvironmentSatisfaction     0\n",
       "Gender                      0\n",
       "HourlyRate                  0\n",
       "JobInvolvement              0\n",
       "JobLevel                    0\n",
       "JobRole                     0\n",
       "JobSatisfaction             0\n",
       "MaritalStatus               0\n",
       "MonthlyIncome               0\n",
       "MonthlyRate                 0\n",
       "NumCompaniesWorked          0\n",
       "Over18                      0\n",
       "OverTime                    0\n",
       "PercentSalaryHike           0\n",
       "PerformanceRating           0\n",
       "RelationshipSatisfaction    0\n",
       "StandardHours               0\n",
       "StockOptionLevel            0\n",
       "TotalWorkingYears           0\n",
       "TrainingTimesLastYear       0\n",
       "WorkLifeBalance             0\n",
       "YearsAtCompany              0\n",
       "YearsInCurrentRole          0\n",
       "YearsSinceLastPromotion     0\n",
       "YearsWithCurrManager        0\n",
       "dtype: int64"
      ]
     },
     "execution_count": 12,
     "metadata": {},
     "output_type": "execute_result"
    }
   ],
   "source": [
    "data.isnull().sum()"
   ]
  },
  {
   "cell_type": "code",
   "execution_count": 14,
   "id": "3e08a1f7",
   "metadata": {},
   "outputs": [
    {
     "data": {
      "text/html": [
       "<div>\n",
       "<style scoped>\n",
       "    .dataframe tbody tr th:only-of-type {\n",
       "        vertical-align: middle;\n",
       "    }\n",
       "\n",
       "    .dataframe tbody tr th {\n",
       "        vertical-align: top;\n",
       "    }\n",
       "\n",
       "    .dataframe thead th {\n",
       "        text-align: right;\n",
       "    }\n",
       "</style>\n",
       "<table border=\"1\" class=\"dataframe\">\n",
       "  <thead>\n",
       "    <tr style=\"text-align: right;\">\n",
       "      <th></th>\n",
       "      <th>EMP_ID</th>\n",
       "      <th>AGE</th>\n",
       "      <th>YEARS OF EMPLOYMENT</th>\n",
       "      <th>SALARY</th>\n",
       "    </tr>\n",
       "  </thead>\n",
       "  <tbody>\n",
       "    <tr>\n",
       "      <th>21591</th>\n",
       "      <td>10794.0</td>\n",
       "      <td>57.0</td>\n",
       "      <td>17.0</td>\n",
       "      <td>1200.0</td>\n",
       "    </tr>\n",
       "    <tr>\n",
       "      <th>21592</th>\n",
       "      <td>NaN</td>\n",
       "      <td>NaN</td>\n",
       "      <td>NaN</td>\n",
       "      <td>NaN</td>\n",
       "    </tr>\n",
       "    <tr>\n",
       "      <th>21593</th>\n",
       "      <td>10795.0</td>\n",
       "      <td>45.0</td>\n",
       "      <td>12.0</td>\n",
       "      <td>1500.0</td>\n",
       "    </tr>\n",
       "    <tr>\n",
       "      <th>21594</th>\n",
       "      <td>NaN</td>\n",
       "      <td>NaN</td>\n",
       "      <td>NaN</td>\n",
       "      <td>NaN</td>\n",
       "    </tr>\n",
       "    <tr>\n",
       "      <th>21595</th>\n",
       "      <td>10796.0</td>\n",
       "      <td>32.0</td>\n",
       "      <td>26.0</td>\n",
       "      <td>2300.0</td>\n",
       "    </tr>\n",
       "  </tbody>\n",
       "</table>\n",
       "</div>"
      ],
      "text/plain": [
       "        EMP_ID   AGE  YEARS OF EMPLOYMENT  SALARY\n",
       "21591  10794.0  57.0                 17.0  1200.0\n",
       "21592      NaN   NaN                  NaN     NaN\n",
       "21593  10795.0  45.0                 12.0  1500.0\n",
       "21594      NaN   NaN                  NaN     NaN\n",
       "21595  10796.0  32.0                 26.0  2300.0"
      ]
     },
     "execution_count": 14,
     "metadata": {},
     "output_type": "execute_result"
    }
   ],
   "source": [
    "df = pd.read_excel('NewEmp.xlsx')\n",
    "df.tail(5)"
   ]
  },
  {
   "cell_type": "code",
   "execution_count": null,
   "id": "d0304fbe",
   "metadata": {},
   "outputs": [],
   "source": [
    "df.isnull().sum()"
   ]
  },
  {
   "cell_type": "code",
   "execution_count": null,
   "id": "dfface9c",
   "metadata": {},
   "outputs": [],
   "source": [
    "countMissing = df['Age'].isnull().sum()\n",
    "countTotal = len(df)\n",
    "checkPecentage = (countMissing/countTotal)*100\n",
    "print(round(checkPecentage, 2),'%')"
   ]
  },
  {
   "cell_type": "markdown",
   "id": "1b05553c",
   "metadata": {},
   "source": [
    "#### To DROP ROWS OF MISSING VALUES"
   ]
  },
  {
   "cell_type": "code",
   "execution_count": null,
   "id": "c2af8734",
   "metadata": {},
   "outputs": [],
   "source": [
    "df = df.dropna()\n",
    "df"
   ]
  },
  {
   "cell_type": "code",
   "execution_count": null,
   "id": "a48e3edf",
   "metadata": {},
   "outputs": [],
   "source": [
    "df.head()"
   ]
  },
  {
   "cell_type": "markdown",
   "id": "55cb85f6",
   "metadata": {},
   "source": [
    "###### IDENTIFY THE AVEARAGE OR MEAN VALUE"
   ]
  },
  {
   "cell_type": "code",
   "execution_count": null,
   "id": "978aeb6d",
   "metadata": {},
   "outputs": [],
   "source": [
    "df.dropna(subset=[\"Age\"], inplace=True)\n",
    "df['Age'].isnull().sum()"
   ]
  },
  {
   "cell_type": "code",
   "execution_count": null,
   "id": "63467969",
   "metadata": {},
   "outputs": [],
   "source": [
    "averageAge =  df['Age'].mean()\n",
    "averageAge = round(averageAge,0)\n",
    "averageAge"
   ]
  },
  {
   "cell_type": "code",
   "execution_count": null,
   "id": "2c7f60b7",
   "metadata": {},
   "outputs": [],
   "source": [
    "df['Age'] = df['Age'].fillna(averageAge)\n",
    "df.head()"
   ]
  },
  {
   "cell_type": "markdown",
   "id": "3c03d95c",
   "metadata": {},
   "source": [
    "###### FILL ROWS OF MISSING VALUES WITH THE AVEARAGE OR MEAN VALUE"
   ]
  },
  {
   "cell_type": "code",
   "execution_count": null,
   "id": "23281ad4",
   "metadata": {},
   "outputs": [],
   "source": [
    "df['Age'] = df['Age'].fillna(averageAge)\n",
    "df['Age'].isnull().sum()"
   ]
  },
  {
   "cell_type": "code",
   "execution_count": null,
   "id": "4b93458c",
   "metadata": {},
   "outputs": [],
   "source": [
    "df.duplicated().sum()\n",
    "df = df.drop_duplicates()\n",
    "df.duplicated().sum()"
   ]
  },
  {
   "cell_type": "code",
   "execution_count": null,
   "id": "5c108365",
   "metadata": {},
   "outputs": [],
   "source": [
    "df.head()"
   ]
  },
  {
   "cell_type": "code",
   "execution_count": null,
   "id": "098d5574",
   "metadata": {},
   "outputs": [],
   "source": []
  },
  {
   "cell_type": "code",
   "execution_count": null,
   "id": "773807b6",
   "metadata": {},
   "outputs": [],
   "source": [
    "q1 = df['Salary'].quantile(0.25)\n",
    "q1"
   ]
  },
  {
   "cell_type": "code",
   "execution_count": null,
   "id": "24aad294",
   "metadata": {},
   "outputs": [],
   "source": [
    "q3  = df['Salary'].quantile(0.75)\n",
    "q3"
   ]
  },
  {
   "cell_type": "code",
   "execution_count": null,
   "id": "8f8adccc",
   "metadata": {},
   "outputs": [],
   "source": [
    "IQR = q3 - q1\n",
    "IQR"
   ]
  },
  {
   "cell_type": "code",
   "execution_count": null,
   "id": "638c2fbf",
   "metadata": {},
   "outputs": [],
   "source": [
    "# Define bounds for detecting outliers\n",
    "lower_bound = q1 - 1.5 * IQR\n",
    "upper_bound = q3 + 1.5 * IQR\n",
    "lower_bound =round(lower_bound)\n",
    "upper_bound"
   ]
  },
  {
   "cell_type": "code",
   "execution_count": null,
   "id": "038839f0",
   "metadata": {},
   "outputs": [],
   "source": [
    "# Calculate Q1 (25th percentile) and Q3 (75th percentile)\n",
    "Q1 = df['Salary'].quantile(0.25)\n",
    "Q3 = df['Salary'].quantile(0.75)\n",
    "\n",
    "# Calculat the IQR\n",
    "IQR = Q3 - Q1\n",
    "\n",
    "IQR\n"
   ]
  },
  {
   "cell_type": "code",
   "execution_count": null,
   "id": "28e7d53b",
   "metadata": {},
   "outputs": [],
   "source": [
    "lower_boundary = Q1 - 1.5 * IQR\n",
    "upper_boundary = Q3 + 1.5 * IQR\n",
    "\n",
    "print(\"Lower Boundary is \", lower_boundary, \"Upper Boundary is \" , upper_boundary)"
   ]
  },
  {
   "cell_type": "code",
   "execution_count": null,
   "id": "b582fcf8",
   "metadata": {},
   "outputs": [],
   "source": [
    "# Identify outliers\n",
    "outliers = df[(df['Salary'] < lower_boundary) | (df['Salary'] > upper_boundary)]\n",
    "print(\"Outliers:\\n\", outliers)\n"
   ]
  },
  {
   "cell_type": "markdown",
   "id": "eb385228",
   "metadata": {},
   "source": [
    "##### Replacing Outliers with mean value in the dataset"
   ]
  },
  {
   "cell_type": "code",
   "execution_count": null,
   "id": "40617a1b",
   "metadata": {},
   "outputs": [],
   "source": [
    "salary_mean = df['Salary'].mean()\n",
    "salary_mean = round(salary_mean, 0)\n",
    "\n",
    "df['Salary'] = df['Salary'].apply(lambda x: salary_mean \n",
    "                                  if x < lower_bound or \n",
    "                                  x > upper_bound else x)\n",
    "\n",
    "df.head(5)"
   ]
  },
  {
   "cell_type": "markdown",
   "id": "9277609b",
   "metadata": {},
   "source": [
    "##### Excluding Outliers from the dataset"
   ]
  },
  {
   "cell_type": "code",
   "execution_count": null,
   "id": "5080df90",
   "metadata": {},
   "outputs": [],
   "source": [
    "df = df[(df['Salary'] >= lower_bound) & (df['Salary'] <= upper_bound)]\n",
    "df.sample(5)"
   ]
  },
  {
   "cell_type": "code",
   "execution_count": null,
   "id": "fb912dba",
   "metadata": {},
   "outputs": [],
   "source": [
    "salary_mean = df['Salary'].mean()\n",
    "\n",
    "# Replace outliers in the Salary column with the mean value\n",
    "df['Salary'] = df['Salary'].apply(lambda x: salary_mean if x < lower_bound or x > upper_bound else x)\n",
    "\n",
    "# Check the updated dataset\n",
    "df"
   ]
  },
  {
   "cell_type": "code",
   "execution_count": null,
   "id": "8cd29fb3",
   "metadata": {},
   "outputs": [],
   "source": [
    "df.duplicated().sum()"
   ]
  },
  {
   "cell_type": "code",
   "execution_count": null,
   "id": "f611422f",
   "metadata": {},
   "outputs": [],
   "source": [
    "df = df.drop_duplicates()\n",
    "df.duplicated().sum()"
   ]
  },
  {
   "cell_type": "markdown",
   "id": "22b32619",
   "metadata": {},
   "source": [
    "##### Remove Excess White Spaces "
   ]
  },
  {
   "cell_type": "code",
   "execution_count": null,
   "id": "5338bb7e",
   "metadata": {},
   "outputs": [],
   "source": [
    "df['Emp_id'] = df['Emp_id'].str.replace(' ', '')\n",
    "df['Department'] = df['Department'].str.replace(' ', '')\n",
    "df[['Emp_id','Department']].head()"
   ]
  },
  {
   "cell_type": "code",
   "execution_count": null,
   "id": "c4da4ed5",
   "metadata": {},
   "outputs": [],
   "source": [
    "sorted_data = data.sort_values(by=['Age'], ascending=True)\n",
    "sorted_data.head(10)"
   ]
  },
  {
   "cell_type": "code",
   "execution_count": null,
   "id": "72c17acc",
   "metadata": {},
   "outputs": [],
   "source": [
    "sorted_data = data.sort_values(by=['Age', 'Department'], ascending=False)\n",
    "sorted_data.head(10)"
   ]
  },
  {
   "cell_type": "code",
   "execution_count": null,
   "id": "f4a9f34f",
   "metadata": {},
   "outputs": [],
   "source": [
    "sorted_data = data.sort_values(by=['Age', 'Department'], ascending=[True, False])\n",
    "sorted_data.head(10)"
   ]
  },
  {
   "cell_type": "code",
   "execution_count": null,
   "id": "21c220a9",
   "metadata": {},
   "outputs": [],
   "source": [
    "department_group = data.groupby('Department')  # Grouping by a department\n",
    "department_group.groups"
   ]
  },
  {
   "cell_type": "code",
   "execution_count": null,
   "id": "442f4d04",
   "metadata": {},
   "outputs": [],
   "source": [
    "grouped_data = department_group.apply(lambda x: x).reset_index(drop=True)\n",
    "grouped_data"
   ]
  },
  {
   "cell_type": "code",
   "execution_count": null,
   "id": "cb141ef2",
   "metadata": {},
   "outputs": [],
   "source": [
    "# grouping with aggregate functions\n",
    "department_group = data.groupby('Department').agg(\n",
    "    avg_daily_rate=('DailyRate', 'mean'),   \n",
    "    total_employees=('DailyRate', 'count'),\n",
    "    attrition_rate=('Attrition', lambda x: (x == 'Yes').mean()) \n",
    ");\n",
    "department_group"
   ]
  },
  {
   "cell_type": "code",
   "execution_count": null,
   "id": "a41321c8",
   "metadata": {},
   "outputs": [],
   "source": [
    "# Rolling window of size 3\n",
    "data['RollingDailyRate'] = data['DailyRate'].rolling(window=3).mean()\n",
    "data['RollingDailyRate'] = data['RollingDailyRate'].fillna(data['RollingDailyRate'].mean())\n",
    "data['RollingDailyRate'] = round(data['RollingDailyRate'], 2)\n",
    "data[['Age','Attrition','DailyRate','RollingDailyRate']]"
   ]
  },
  {
   "cell_type": "markdown",
   "id": "892ea080",
   "metadata": {},
   "source": [
    "Forward Filling"
   ]
  },
  {
   "cell_type": "code",
   "execution_count": null,
   "id": "411c376e",
   "metadata": {},
   "outputs": [],
   "source": [
    "data['RollingDailyRate'] = data['RollingDailyRate'].fillna(method='ffill')\n",
    "data[['Age','Attrition','DailyRate','RollingDailyRate']]"
   ]
  },
  {
   "cell_type": "markdown",
   "id": "520eb90c",
   "metadata": {},
   "source": [
    "Backward Filling"
   ]
  },
  {
   "cell_type": "code",
   "execution_count": null,
   "id": "77c7d0a8",
   "metadata": {},
   "outputs": [],
   "source": [
    "data['RollingDailyRate'] = data['RollingDailyRate'].fillna(method='bfill')\n",
    "data[['Age','Attrition','DailyRate','RollingDailyRate']]"
   ]
  },
  {
   "cell_type": "markdown",
   "id": "2ccc0713",
   "metadata": {},
   "source": [
    "interpolate"
   ]
  },
  {
   "cell_type": "code",
   "execution_count": null,
   "id": "fefc8ea9",
   "metadata": {},
   "outputs": [],
   "source": [
    "data['RollingDailyRate'] = data['RollingDailyRate'].interpolate()\n",
    "data[['Age','Attrition','DailyRate','RollingDailyRate']]"
   ]
  },
  {
   "cell_type": "code",
   "execution_count": null,
   "id": "1328c348",
   "metadata": {},
   "outputs": [],
   "source": [
    "data['ExpandingSumAge'] = data['Age'].expanding().sum()\n",
    "data[['Age','Attrition','DailyRate','RollingDailyRate']]\n"
   ]
  },
  {
   "cell_type": "code",
   "execution_count": null,
   "id": "f87cf00b",
   "metadata": {},
   "outputs": [],
   "source": [
    "data['CustomAggregation'] = data.groupby('Department')['TotalWorkingYears'].apply(lambda x: x.mean())\n",
    "data[['Age','Attrition','DailyRate','Department','TotalWorkingYears']]"
   ]
  },
  {
   "cell_type": "markdown",
   "id": "c577e71b",
   "metadata": {},
   "source": [
    "Here are 20 possible questions you can solve using the hr_attrition dataset with Pandas. These questions will help you explore and analyze the data effectively:"
   ]
  },
  {
   "cell_type": "code",
   "execution_count": null,
   "id": "711ff372",
   "metadata": {},
   "outputs": [],
   "source": [
    "#dimension of the dataset\n",
    "data.shape"
   ]
  },
  {
   "cell_type": "code",
   "execution_count": null,
   "id": "f29b5e84",
   "metadata": {
    "scrolled": true
   },
   "outputs": [],
   "source": [
    "#What are the column names and their data types?\n",
    "data.info()"
   ]
  },
  {
   "cell_type": "code",
   "execution_count": null,
   "id": "833a3313",
   "metadata": {},
   "outputs": [],
   "source": [
    "# 3.\tAre there any missing values in the dataset?"
   ]
  },
  {
   "cell_type": "code",
   "execution_count": null,
   "id": "6bc69a01",
   "metadata": {},
   "outputs": [],
   "source": [
    "data.isnull().sum()"
   ]
  },
  {
   "cell_type": "code",
   "execution_count": null,
   "id": "3ae5119b",
   "metadata": {},
   "outputs": [],
   "source": [
    "df.describe()\n"
   ]
  },
  {
   "cell_type": "code",
   "execution_count": null,
   "id": "eb0e3d4b",
   "metadata": {},
   "outputs": [],
   "source": [
    "#What are the unique values in the 'Attrition' column?\n",
    "data['Attrition'].unique()"
   ]
  },
  {
   "cell_type": "code",
   "execution_count": null,
   "id": "c6885ad4",
   "metadata": {},
   "outputs": [],
   "source": [
    "# What is the total count of employees who left the company (Attrition = 'Yes')?"
   ]
  },
  {
   "cell_type": "code",
   "execution_count": null,
   "id": "6b5bbbd7",
   "metadata": {},
   "outputs": [],
   "source": [
    "data['Attrition'].value_counts()"
   ]
  },
  {
   "cell_type": "code",
   "execution_count": null,
   "id": "85d8dc1b",
   "metadata": {},
   "outputs": [],
   "source": [
    "# Plot the value counts as a bar chart\n",
    "data['Attrition'].value_counts().plot.bar(title='Attrition Count', \n",
    "                                          color=['lightgreen', 'tomato'])\n"
   ]
  },
  {
   "cell_type": "code",
   "execution_count": null,
   "id": "a5f03f10",
   "metadata": {},
   "outputs": [],
   "source": [
    "#What is the percentage of employees who left vs those who stayed?"
   ]
  },
  {
   "cell_type": "code",
   "execution_count": null,
   "id": "99a1aa4e",
   "metadata": {},
   "outputs": [],
   "source": [
    "data['Attrition'].value_counts(normalize=True) * 100\n"
   ]
  },
  {
   "cell_type": "code",
   "execution_count": null,
   "id": "3fb9cb5b",
   "metadata": {},
   "outputs": [],
   "source": [
    "data['Attrition'].value_counts(normalize=True).plot.pie(\n",
    "    autopct='%1.1f%%', \n",
    "    colors=['lightgreen', 'tomato'], \n",
    "    title='Attrition Percentage', \n",
    "    figsize=(4, 4)\n",
    ")"
   ]
  },
  {
   "cell_type": "code",
   "execution_count": null,
   "id": "2d307729",
   "metadata": {},
   "outputs": [],
   "source": [
    "#Gender Age Distribution\n",
    "data[data['Attrition'] == 'Yes']['Gender'].value_counts()\n"
   ]
  },
  {
   "cell_type": "markdown",
   "id": "2251e97a",
   "metadata": {},
   "source": [
    "BARPLOT of GENDER AGE DISTRIBUTION"
   ]
  },
  {
   "cell_type": "code",
   "execution_count": 17,
   "id": "dd0c2192",
   "metadata": {},
   "outputs": [
    {
     "data": {
      "text/plain": [
       "<Axes: xlabel='Gender'>"
      ]
     },
     "execution_count": 17,
     "metadata": {},
     "output_type": "execute_result"
    },
    {
     "data": {
      "image/png": "[encoded data removed]",
      "text/plain": [
       "<Figure size 640x480 with 1 Axes>"
      ]
     },
     "metadata": {},
     "output_type": "display_data"
    }
   ],
   "source": [
    "data[data['Attrition'] == 'Yes']['Gender'].value_counts().plot(kind=\"bar\", \n",
    "                                                               color=[\"red\",\"blue\"])"
   ]
  },
  {
   "cell_type": "code",
   "execution_count": null,
   "id": "ddc5a187",
   "metadata": {},
   "outputs": [],
   "source": [
    "data[data['Attrition'] == 'Yes']['EducationField'].value_counts()\n"
   ]
  },
  {
   "cell_type": "code",
   "execution_count": 18,
   "id": "d96e3daf",
   "metadata": {},
   "outputs": [
    {
     "data": {
      "text/plain": [
       "<Axes: title={'center': 'Gender Distribution for Attrition = Yes'}, ylabel='Gender'>"
      ]
     },
     "execution_count": 18,
     "metadata": {},
     "output_type": "execute_result"
    },
    {
     "data": {
      "image/png": "[encoded data removed]",
      "text/plain": [
       "<Figure size 640x480 with 1 Axes>"
      ]
     },
     "metadata": {},
     "output_type": "display_data"
    }
   ],
   "source": [
    "data[data['Attrition'] == 'Yes']['Gender'].value_counts().plot(kind='barh', \n",
    "                                                              color=['green','orange'], \n",
    "                                                              title='Gender Distribution for Attrition = Yes')\n"
   ]
  },
  {
   "cell_type": "code",
   "execution_count": null,
   "id": "38b0606c",
   "metadata": {},
   "outputs": [],
   "source": [
    "ax = data[data['Attrition'] == 'Yes']['Gender'].value_counts().plot(kind='barh', \n",
    "                                                                    color='green', \n",
    "                                                                    title='Gender Distribution for Attrition = Yes')\n",
    "\n",
    "# Add values to each bar\n",
    "for i, v in enumerate(data[data['Attrition'] == 'Yes']['Gender'].value_counts()):\n",
    "    ax.text(v + 0.5, i, str(v), color='black', va='center', fontsize=10)\n"
   ]
  },
  {
   "cell_type": "code",
   "execution_count": null,
   "id": "e96700fd",
   "metadata": {},
   "outputs": [],
   "source": [
    "att_monthlyIncome = data.groupby('Attrition')['MonthlyIncome'].mean()\n",
    "round(att_monthlyIncome, 2)"
   ]
  },
  {
   "cell_type": "code",
   "execution_count": null,
   "id": "6ce5f625",
   "metadata": {},
   "outputs": [],
   "source": [
    "att_monthlyIncome = data.groupby('Attrition')['MonthlyIncome'].mean()\n",
    "att_monthlyIncome.plot(kind=\"pie\")"
   ]
  },
  {
   "cell_type": "code",
   "execution_count": null,
   "id": "0a100f52",
   "metadata": {},
   "outputs": [],
   "source": [
    "att_monthlyIncome.plot(kind='pie', autopct='%1.1f%%', startangle=90, ylabel='', \n",
    "          title='Mean Monthly Income by Attrition', figsize=(6, 6))"
   ]
  },
  {
   "cell_type": "code",
   "execution_count": null,
   "id": "64ed6dd9",
   "metadata": {},
   "outputs": [],
   "source": [
    "AvgWorkBalance = data[data['Attrition'] == 'Yes']['WorkLifeBalance'].mean()\n",
    "round(AvgWorkBalance, 2)"
   ]
  },
  {
   "cell_type": "markdown",
   "id": "3c498d43",
   "metadata": {},
   "source": [
    "13.\tWhich department has the highest attrition rate?"
   ]
  },
  {
   "cell_type": "code",
   "execution_count": null,
   "id": "a46d5e2a",
   "metadata": {},
   "outputs": [],
   "source": [
    "data[data['Attrition'] == 'Yes']['Department'].value_counts()\n"
   ]
  },
  {
   "cell_type": "code",
   "execution_count": null,
   "id": "e9362fdb",
   "metadata": {},
   "outputs": [],
   "source": [
    "yesDept = data[data['Attrition'] == 'Yes']['Department'].value_counts()\n",
    "yesDept.plot(kind=\"pie\")"
   ]
  },
  {
   "cell_type": "code",
   "execution_count": null,
   "id": "aa5da86f",
   "metadata": {},
   "outputs": [],
   "source": [
    "yesDept = data[data['Attrition'] == 'Yes']['Department'].value_counts()\n",
    "yesDept.plot(kind=\"pie\", autopct='%1.1f%%', startangle=90, \n",
    "             title=\"Attrition by Department\", ylabel=\"\")\n"
   ]
  },
  {
   "cell_type": "markdown",
   "id": "dc92225e",
   "metadata": {},
   "source": [
    "Which job role has the highest number of employees leaving?"
   ]
  },
  {
   "cell_type": "code",
   "execution_count": null,
   "id": "f4279224",
   "metadata": {},
   "outputs": [],
   "source": [
    "data[data['Attrition'] == 'Yes']['JobRole'].value_counts()"
   ]
  },
  {
   "cell_type": "code",
   "execution_count": null,
   "id": "5b1c505c",
   "metadata": {},
   "outputs": [],
   "source": [
    "jobAtt  = data[data['Attrition'] == 'Yes']['JobRole'].value_counts()\n",
    "jobAtt.plot(kind=\"bar\")"
   ]
  },
  {
   "cell_type": "code",
   "execution_count": null,
   "id": "d7916320",
   "metadata": {},
   "outputs": [],
   "source": [
    "jobAtt = data[data['Attrition'] == 'Yes']['JobRole'].value_counts()\n",
    "ax = jobAtt.plot(kind=\"bar\", color=\"blue\", title=\"Attrition by Job Role\")\n",
    "\n",
    "# Adding data labels using Pandas\n",
    "for i, v in enumerate(jobAtt):\n",
    "    ax.text(i, v + 0.5, str(v), ha='center', fontsize=10)\n"
   ]
  },
  {
   "cell_type": "code",
   "execution_count": null,
   "id": "7efb4ceb",
   "metadata": {},
   "outputs": [],
   "source": [
    "yearsAtt= data.groupby('Attrition')['YearsAtCompany'].mean()\n",
    "round(yearsAtt,2)"
   ]
  },
  {
   "cell_type": "code",
   "execution_count": null,
   "id": "0f6fa743",
   "metadata": {},
   "outputs": [],
   "source": [
    "yearsAtt.plot(kind=\"pie\", autopct='%1.1f%%', startangle=90, \n",
    "             title=\"Attrition by Department\", ylabel=\"\")"
   ]
  },
  {
   "cell_type": "markdown",
   "id": "5ce10338",
   "metadata": {},
   "source": [
    "How does attrition vary with the number of years since the last promotion?"
   ]
  },
  {
   "cell_type": "code",
   "execution_count": null,
   "id": "3dbee6a5",
   "metadata": {},
   "outputs": [],
   "source": [
    "yearsProAttr = data.groupby('YearsSinceLastPromotion')['Attrition'].value_counts()\n",
    "yearsProAttr"
   ]
  },
  {
   "cell_type": "code",
   "execution_count": null,
   "id": "ff293573",
   "metadata": {},
   "outputs": [],
   "source": [
    "data.groupby('OverTime')['Attrition'].value_counts(normalize=True)"
   ]
  },
  {
   "cell_type": "code",
   "execution_count": null,
   "id": "72333100",
   "metadata": {},
   "outputs": [],
   "source": [
    "avg_income_by_role = data.groupby('JobRole')['MonthlyIncome'].mean()\n",
    "round(avg_income_by_role, 2)"
   ]
  },
  {
   "cell_type": "code",
   "execution_count": null,
   "id": "ce196cdf",
   "metadata": {},
   "outputs": [],
   "source": [
    "avg_income_by_role.plot(kind='barh', title='Average Monthly Income by Job Role', \n",
    "                        color='skyblue', figsize=(5, 3))"
   ]
  },
  {
   "cell_type": "code",
   "execution_count": null,
   "id": "8af6c2ad",
   "metadata": {},
   "outputs": [],
   "source": [
    "data[['Age', 'MonthlyIncome', 'YearsAtCompany']].corr()"
   ]
  },
  {
   "cell_type": "code",
   "execution_count": null,
   "id": "d211a9c5",
   "metadata": {},
   "outputs": [],
   "source": [
    "corr_matrix = data[['Age', 'MonthlyIncome', 'YearsAtCompany']].corr()\n",
    "corr_matrix.style.background_gradient(cmap='Blues').set_precision(2)"
   ]
  },
  {
   "cell_type": "markdown",
   "id": "4951e166",
   "metadata": {},
   "source": [
    "How does the length of service (YearsAtCompany) correlate with the probability of attrition?"
   ]
  },
  {
   "cell_type": "code",
   "execution_count": null,
   "id": "15c1e037",
   "metadata": {},
   "outputs": [],
   "source": [
    "data['Attrition'] = data['Attrition'].map({'Yes': 1, 'No': 0})\n",
    "\n",
    "# Group by 'YearsAtCompany' and calculate the mean of 'Attrition'\n",
    "attrition_by_years_at_company = data.groupby('YearsAtCompany')['Attrition'].mean()\n",
    "\n",
    "# Display the result\n",
    "attrition_by_years_at_company.head(5)"
   ]
  },
  {
   "cell_type": "markdown",
   "id": "5fc9ec14",
   "metadata": {},
   "source": [
    "What is the relationship between job satisfaction (RelationshipSatisfaction) and attrition rates?"
   ]
  },
  {
   "cell_type": "code",
   "execution_count": null,
   "id": "0a6dbef8",
   "metadata": {},
   "outputs": [],
   "source": [
    "# Group by 'RelationshipSatisfaction' and calculate the mean of 'Attrition'\n",
    "attrition_by_job_satisfaction = data.groupby('RelationshipSatisfaction')['Attrition'].mean()\n",
    "\n",
    "# Display the result\n",
    "attrition_by_job_satisfaction\n"
   ]
  },
  {
   "cell_type": "code",
   "execution_count": null,
   "id": "2d032863",
   "metadata": {},
   "outputs": [],
   "source": [
    "pip install matplotlib"
   ]
  },
  {
   "cell_type": "code",
   "execution_count": null,
   "id": "3b774454",
   "metadata": {},
   "outputs": [],
   "source": [
    "import matplotlib.pyplot as plt"
   ]
  },
  {
   "cell_type": "code",
   "execution_count": null,
   "id": "5de5c86e",
   "metadata": {},
   "outputs": [],
   "source": [
    "# Sample data\n",
    "x = [1, 2, 3, 4, 5]\n",
    "y = [2, 3, 5, 7, 11]\n",
    "plt.figure(figsize=(5,3))\n",
    "plt.title(\"Simple Line Plot\")\n",
    "plt.xlabel('X-axis')\n",
    "plt.ylabel('Y-axis')\n",
    "plt.plot(x, y)\n",
    "plt.show()"
   ]
  },
  {
   "cell_type": "code",
   "execution_count": null,
   "id": "a3c37961",
   "metadata": {},
   "outputs": [],
   "source": [
    "x = [1, 2, 3, 4, 5]\n",
    "y = [2, 3, 5, 7, 11]\n",
    "\n",
    "plt.figure(figsize=(5, 3))\n",
    "\n",
    "plt.title(\"Simple Line Plot with Markers and Custom Color\")\n",
    "plt.xlabel('X-axis')\n",
    "plt.ylabel('Y-axis')\n",
    "\n",
    "plt.plot(x, y, marker='p', color='green', linestyle='--')\n",
    "plt.show()"
   ]
  },
  {
   "cell_type": "code",
   "execution_count": null,
   "id": "9e0ab14a",
   "metadata": {},
   "outputs": [],
   "source": [
    "data['AgeBand'] = pd.cut(data['Age'], bins=[18, 30, 40, 50, 60], \n",
    "                         labels=[\"18-30\", \"31-40\", \"41-50\", \"51-60\"])\n",
    "\n",
    "# Step 2: Group by Age Band and Attrition\n",
    "attrition_by_age = data[data['Attrition']==\"Yes\"].groupby('AgeBand').size()\n",
    "\n",
    "plt.figure(figsize=(7,3))\n",
    "plt.title(\"Age-Band by Attrition\")\n",
    "plt.xlabel(\"Ageband\")\n",
    "plt.ylabel(\"Attrition\")\n",
    "ax = attrition_by_age.plot(marker=\"o\", linestyle=\"-\", color=\"red\")\n",
    "\n",
    "for i, value in enumerate(attrition_by_age):\n",
    "    ax.text(i, value, str(value), ha='center', va='bottom', color=\"black\", fontsize=10)\n",
    "    \n",
    "plt.show()"
   ]
  },
  {
   "cell_type": "code",
   "execution_count": null,
   "id": "ee5cbfbc",
   "metadata": {},
   "outputs": [],
   "source": [
    "import matplotlib.pyplot as plt\n",
    "Age = [18, 22, 23, 22, 24, 25, 24, 26, 27, 28, 29, 30, 30, 32, 34, 33, 31]\n",
    "plt.hist(Age, bins=5, color='skyblue', edgecolor='black')\n",
    "# Add titles and labels\n",
    "plt.title('Distribution of Age')\n",
    "plt.xlabel('Value Ranges')\n",
    "plt.ylabel('Frequency')\n",
    "# Show the plot\n",
    "plt.show()"
   ]
  },
  {
   "cell_type": "code",
   "execution_count": null,
   "id": "218f3201",
   "metadata": {},
   "outputs": [],
   "source": [
    "plt.figure(figsize=(5,3))\n",
    "plt.hist(data['Age'], bins=10, color='skyblue', edgecolor='black')\n",
    "plt.title('Age Distribution')\n",
    "plt.xlabel('Age')\n",
    "plt.ylabel('Frequency')\n",
    "plt.show()"
   ]
  },
  {
   "cell_type": "code",
   "execution_count": null,
   "id": "65e5d7dc",
   "metadata": {},
   "outputs": [],
   "source": [
    "plt.figure(figsize=(8,3))\n",
    "plt.hist(data['MonthlyIncome'], bins=15, color='orange', edgecolor='black')\n",
    "plt.title('Monthly Income Distribution')\n",
    "plt.xlabel('Monthly Income')\n",
    "plt.ylabel('Frequency')\n",
    "plt.show()"
   ]
  },
  {
   "cell_type": "code",
   "execution_count": null,
   "id": "263a503c",
   "metadata": {},
   "outputs": [],
   "source": [
    "plt.figure(figsize=(8,3))\n",
    "plt.hist(data['YearsAtCompany'], bins=10, color='green', edgecolor='black')\n",
    "plt.title('Years at Company')\n",
    "plt.xlabel('Years')\n",
    "plt.ylabel('Frequency')\n",
    "plt.show()"
   ]
  },
  {
   "cell_type": "code",
   "execution_count": null,
   "id": "b6d01101",
   "metadata": {},
   "outputs": [],
   "source": [
    "plt.figure(figsize=(8,3))\n",
    "plt.hist(data['WorkLifeBalance'], bins=4, color='teal', edgecolor='black')\n",
    "plt.title('Work-Life Balance Scores')\n",
    "plt.xlabel('Scores')\n",
    "plt.ylabel('Frequency')\n",
    "plt.show()"
   ]
  },
  {
   "cell_type": "markdown",
   "id": "65d9e0b2",
   "metadata": {},
   "source": [
    "### SYNTAX"
   ]
  },
  {
   "cell_type": "code",
   "execution_count": null,
   "id": "53f8f569",
   "metadata": {},
   "outputs": [],
   "source": [
    "x = [2, 4, 6, 7, 9]\n",
    "y = [3, 6, 8, 9, 6]\n",
    "plt.figure(figsize=(7,3))\n",
    "plt.scatter(x, y, color='blue', marker='o')\n",
    "plt.title('Scatter Plot')\n",
    "plt.xlabel('X-axis Label')\n",
    "plt.ylabel('Y-axis Label')\n",
    "plt.show()"
   ]
  },
  {
   "cell_type": "code",
   "execution_count": null,
   "id": "d55cbd75",
   "metadata": {},
   "outputs": [],
   "source": [
    "plt.figure(figsize=(7,3))\n",
    "plt.scatter(data['MonthlyIncome'], data['JobSatisfaction'], color='blue', alpha=0.5)\n",
    "plt.title('Monthly Income vs Job Satisfaction')\n",
    "plt.xlabel('Monthly Income')\n",
    "plt.ylabel('Job Satisfaction')\n",
    "plt.show()"
   ]
  },
  {
   "cell_type": "code",
   "execution_count": null,
   "id": "93ef449d",
   "metadata": {},
   "outputs": [],
   "source": [
    "plt.figure(figsize=(7,3))\n",
    "plt.scatter(data['Age'], data['YearsAtCompany'], color='green', marker='.')\n",
    "plt.title('Age vs Years at Company')\n",
    "plt.xlabel('Age')\n",
    "plt.ylabel('Years at Company')\n",
    "plt.show()"
   ]
  },
  {
   "cell_type": "code",
   "execution_count": null,
   "id": "30980bdd",
   "metadata": {},
   "outputs": [],
   "source": [
    "plt.figure(figsize=(10,3))\n",
    "plt.scatter(data['Age'], data['MonthlyIncome'], s=data['YearsAtCompany']*10, \n",
    "            c=data['JobSatisfaction'], cmap='viridis', alpha=0.9)\n",
    "plt.title('Age vs Monthly Income (Size: Years at Company, Color: Job Satisfaction)')\n",
    "plt.xlabel('Age')\n",
    "plt.ylabel('Monthly Income')\n",
    "plt.colorbar(label='Job Satisfaction')\n",
    "plt.show()\n"
   ]
  },
  {
   "cell_type": "code",
   "execution_count": null,
   "id": "bc81f264",
   "metadata": {},
   "outputs": [],
   "source": [
    "plt.figure(figsize=(8,3))\n",
    "plt.scatter(df['Salary'], df['Age'], color='green', marker='.')\n",
    "plt.title('Age vs Years at Company')\n",
    "plt.xlabel('Salary')\n",
    "plt.ylabel('Age')\n",
    "plt.show()"
   ]
  },
  {
   "cell_type": "code",
   "execution_count": null,
   "id": "66d2e21f",
   "metadata": {},
   "outputs": [],
   "source": [
    "plt.figure(figsize=(11,3.5))\n",
    "plt.boxplot(data['Age'], patch_artist=True, notch=True, vert=False, \n",
    "            boxprops=dict(facecolor='skyblue', color='black'))\n",
    "plt.title('Box Plot of Age')\n",
    "plt.xlabel('Age')\n",
    "plt.show()"
   ]
  },
  {
   "cell_type": "code",
   "execution_count": null,
   "id": "4050fa1f",
   "metadata": {},
   "outputs": [],
   "source": [
    "plt.figure(figsize=(6,3.5))\n",
    "plt.boxplot([data[data['Attrition'] == 'Yes']['MonthlyIncome'], \n",
    "             data[data['Attrition'] == 'No']['MonthlyIncome']], \n",
    "            labels=['Attrition: Yes', 'Attrition: No'], patch_artist=True)\n",
    "plt.title('Box Plot of Monthly Income by Attrition')\n",
    "plt.ylabel('Monthly Income')\n",
    "plt.show()\n"
   ]
  },
  {
   "cell_type": "markdown",
   "id": "1699bcd4",
   "metadata": {},
   "source": [
    "## Categorical Data Charts"
   ]
  },
  {
   "cell_type": "code",
   "execution_count": null,
   "id": "7793fcba",
   "metadata": {},
   "outputs": [],
   "source": [
    "attrition_data = data[data['Attrition'] == \"Yes\"]\n",
    "plt.figure(figsize=(7,3))\n",
    "attdepartment = attrition_data['Department'].value_counts()\n",
    "plt.bar(attdepartment.index,attdepartment.values, color=\"skyblue\", edgecolor=\"black\")\n",
    "for i, value in enumerate(attdepartment.values):\n",
    "    plt.text(i, value, str(value), ha='center', va='bottom')\n",
    "plt.show()"
   ]
  },
  {
   "cell_type": "code",
   "execution_count": null,
   "id": "709a99ac",
   "metadata": {},
   "outputs": [],
   "source": [
    "attrition_data = data[data['Attrition'] == \"Yes\"]\n",
    "attrition_data['AgeBand'] = pd.cut(attrition_data['Age'], bins=[18, 30, 40, 50, 60], \n",
    "                                    labels=[\"18-30\", \"31-40\", \"41-50\", \"51-60\"])\n",
    "gender_age_attrition = attrition_data.groupby(['AgeBand', 'Gender']).size().unstack(fill_value=0)\n",
    "gender_age_attrition.plot(kind='bar', stacked=True, color=['skyblue', 'lightcoral', \n",
    "                                                         'lightgreen', 'orange'], figsize=(10,3))\n",
    "plt.title('Attrition (Yes) by Gender and Age Band', fontsize=14)\n",
    "plt.xlabel('Gender and Age Band', fontsize=12)\n",
    "plt.ylabel('Number of Employees', fontsize=12)\n",
    "plt.xticks(rotation=45)\n",
    "plt.show()"
   ]
  },
  {
   "cell_type": "code",
   "execution_count": null,
   "id": "ed089113",
   "metadata": {},
   "outputs": [],
   "source": [
    "attrition_counts = data['Attrition'].value_counts()\n",
    "\n",
    "# Create the pie chart\n",
    "plt.figure(figsize=(8, 6))\n",
    "attrition_counts.plot(kind='pie', \n",
    "                      autopct='%1.1f%%', \n",
    "                      startangle=90, \n",
    "                      colors=['lightcoral', 'skyblue'], \n",
    "                      labels=attrition_counts.index)\n",
    "plt.title('Attrition Breakdown')\n",
    "plt.ylabel('')  # Remove the default ylabel\n",
    "plt.show()\n"
   ]
  },
  {
   "cell_type": "code",
   "execution_count": null,
   "id": "fc3f66c7",
   "metadata": {},
   "outputs": [],
   "source": [
    "attrition_by_gender = data.groupby(['Gender', 'Attrition']).size().unstack(fill_value=0)\n",
    "\n",
    "\n",
    "attrition_by_gender_total = attrition_by_gender['Yes']\n",
    "\n",
    "\n",
    "plt.figure(figsize=(3,3))\n",
    "plt.pie(attrition_by_gender_total, \n",
    "        labels=attrition_by_gender_total.index, autopct='%1.1f%%', \n",
    "        startangle=90, colors=['skyblue', 'lightcoral'])\n",
    "plt.title('Attrition by Gender')\n",
    "plt.axis('equal') \n",
    "plt.show()"
   ]
  },
  {
   "cell_type": "code",
   "execution_count": null,
   "id": "7f407e5a",
   "metadata": {},
   "outputs": [],
   "source": [
    "import plotly.express as px\n",
    "\n",
    "fig = px.treemap(data, \n",
    "                 path=['Department', 'Attrition'],  # Hierarchical structure\n",
    "                 values='Count',                    # Value used for sizing the rectangles\n",
    "                 color='Attrition',                  # Coloring based on attrition status\n",
    "                 color_continuous_scale='RdBu',      # Color scale for attrition\n",
    "                 title='Attrition by Department')\n",
    "\n",
    "# Show the Tree Map\n",
    "fig.show()"
   ]
  },
  {
   "cell_type": "code",
   "execution_count": null,
   "id": "b9643bfa",
   "metadata": {},
   "outputs": [],
   "source": [
    "!pip install cartopy matplotlib"
   ]
  },
  {
   "cell_type": "code",
   "execution_count": null,
   "id": "73fd36ea",
   "metadata": {},
   "outputs": [],
   "source": [
    "import matplotlib.pyplot as plt\n",
    "import cartopy.crs as ccrs  \n",
    "import cartopy.feature as cfeature  \n",
    "fig, ax = plt.subplots(figsize=(10, 6), dpi=150)\n",
    "ax = plt.axes(projection=ccrs.PlateCarree())\n",
    "ax.coastlines()  \n",
    "ax.add_feature(cfeature.BORDERS)  \n",
    "ax.grid(True)\n",
    "ax.set_title('World Map')\n",
    "plt.show()\n"
   ]
  },
  {
   "cell_type": "code",
   "execution_count": null,
   "id": "b5b33820",
   "metadata": {},
   "outputs": [],
   "source": [
    "import matplotlib.pyplot as plt\n",
    "import cartopy.crs as ccrs  \n",
    "import cartopy.feature as cfeature  \n",
    "fig, ax = plt.subplots(figsize=(10, 6), dpi=150)\n",
    "\n",
    "ax = plt.axes(projection=ccrs.PlateCarree())\n",
    "ax.set_extent([0,0 ,0  ,0 ], crs=ccrs.PlateCarree())\n",
    "ax.coastlines()\n",
    "ax.add_feature(cfeature.BORDERS)\n",
    "ax.add_feature(cfeature.LAND)\n",
    "ax.grid(True)\n",
    "ax.set_title('Name of the country Here')\n",
    "plt.show()\n"
   ]
  },
  {
   "cell_type": "code",
   "execution_count": null,
   "id": "ceb1d526",
   "metadata": {},
   "outputs": [],
   "source": [
    "import pandas as pd\n",
    "import matplotlib.pyplot as plt\n",
    "\n",
    "corr = data[['Age', 'DailyRate', 'DistanceFromHome', 'YearsAtCompany']].corr()\n",
    "\n",
    "plt.imshow(corr, cmap='coolwarm', interpolation='nearest')\n",
    "plt.colorbar()  \n",
    "\n",
    "plt.xticks(range(len(corr.columns)), corr.columns, rotation=45)\n",
    "plt.yticks(range(len(corr.columns)), corr.columns)\n",
    "\n",
    "\n",
    "plt.title('Correlation Heatmap')\n",
    "\n",
    "\n",
    "plt.show()\n"
   ]
  },
  {
   "cell_type": "code",
   "execution_count": null,
   "id": "926343c0",
   "metadata": {},
   "outputs": [],
   "source": [
    "plt.figure(figsize=(8, 6))\n",
    "bubble_size = data['YearsAtCompany'] * 10  # Scale the bubble size\n",
    "\n",
    "colors = ['red' if attr == 'Yes' else 'blue' for attr in data['Attrition']] \n",
    "plt.scatter(data['Age'], data['DailyRate'], s=bubble_size, c=colors, cmap='viridis', \n",
    "            alpha=0.7, edgecolors='black')\n",
    "\n",
    "# Labels and title\n",
    "plt.title('Bubble Plot: Age vs DailyRate (Bubble = YearsAtCompany)', fontsize=14)\n",
    "plt.xlabel('Age')\n",
    "plt.ylabel('Daily Rate')\n",
    "plt.colorbar(label='Attrition (1 = Yes, 0 = No)')\n",
    "plt.grid(True)\n",
    "\n",
    "# Show plot\n",
    "plt.show()"
   ]
  },
  {
   "cell_type": "code",
   "execution_count": null,
   "id": "fe2b2eb4",
   "metadata": {},
   "outputs": [],
   "source": [
    "categories = ['Age', 'DailyRate', 'YearsAtCompany', 'DistanceFromHome']\n",
    "values = [30, 800, 5, 10]\n",
    "num_vars = len(categories)\n",
    "angles = [n / float(num_vars) * 2 * 3.1416 for n in range(num_vars)]\n",
    "angles += angles[:1] \n",
    "values += values[:1] \n",
    "plt.figure(figsize=(6, 6))\n",
    "ax = plt.subplot(111, polar=True)\n",
    "ax.plot(angles, values, color='blue', linewidth=2)\n",
    "ax.fill(angles, values, color='blue', alpha=0.25)\n",
    "ax.set_xticks(angles[:-1])\n",
    "ax.set_xticklabels(categories)\n",
    "plt.title('Radar Chart: Simple Example', size=14, pad=20)\n",
    "\n",
    "# Show the plot\n",
    "plt.show()\n"
   ]
  },
  {
   "cell_type": "code",
   "execution_count": null,
   "id": "d8eb6ac0",
   "metadata": {},
   "outputs": [],
   "source": [
    "pip install folium"
   ]
  },
  {
   "cell_type": "code",
   "execution_count": null,
   "id": "9548dbbc",
   "metadata": {},
   "outputs": [],
   "source": [
    "import folium as fl"
   ]
  },
  {
   "cell_type": "code",
   "execution_count": null,
   "id": "68c090d8",
   "metadata": {},
   "outputs": [],
   "source": [
    "data = {\n",
    "    'State': ['California', 'Texas', 'Florida', 'New York', 'Illinois'],\n",
    "    'Value': [39538223, 29145505, 21538187, 20201249, 12812508]\n",
    "}\n",
    "\n",
    "# Convert to DataFrame\n",
    "df = pd.DataFrame(data)\n",
    "\n",
    "geo_path = 'map.geojson'  \n",
    "\n",
    "\n",
    "m = fl.Map(location=[37.0902, -95.7129], zoom_start=5)\n",
    "\n",
    "\n",
    "fl.Choropleth(\n",
    "    geo_data=geo_path,  \n",
    "    name='choropleth',  # Layer name\n",
    "    data=df,  # Data to visualize\n",
    "    columns=['State', 'Value'],  # Data columns: first is the geographic key, second is the data\n",
    "    key_on='feature.properties.name',  # Key in GeoJSON that matches the 'State' column\n",
    "    fill_color='YlGn',  # Color scheme\n",
    "    fill_opacity=0.7,  # Transparency of fill\n",
    "    line_opacity=0.2,  # Transparency of boundaries\n",
    "    legend_name='Population'\n",
    ").add_to(m)\n",
    "\n",
    "# Display the map\n",
    "m.save(\"choropleth_map.html\")"
   ]
  },
  {
   "cell_type": "code",
   "execution_count": null,
   "id": "c936f8bc",
   "metadata": {},
   "outputs": [],
   "source": [
    "import matplotlib.pyplot as plt\n",
    "import cartopy.crs as ccrs\n",
    "\n",
    "# Create a map with a specific projection\n",
    "fig, ax = plt.subplots(figsize=(8, 6), subplot_kw={'projection': ccrs.PlateCarree()})\n",
    "\n",
    "# Set extent to focus on a specific region\n",
    "ax.set_extent([-10, 50, 30, 70])  # [longitude_min, longitude_max, latitude_min, latitude_max]\n",
    "\n",
    "# Add coastlines\n",
    "ax.coastlines()\n",
    "\n",
    "# Display the map\n",
    "plt.show()\n"
   ]
  },
  {
   "cell_type": "code",
   "execution_count": null,
   "id": "6691e647",
   "metadata": {},
   "outputs": [],
   "source": [
    "import matplotlib.pyplot as plt\n",
    "import cartopy.crs as ccrs\n",
    "import cartopy.feature as cfeature\n",
    "\n",
    "# Create a figure and axis\n",
    "fig, ax = plt.subplots(figsize=(10, 6), dpi=150)\n",
    "\n",
    "# Set the map projection to PlateCarree (simple latitude-longitude grid)\n",
    "ax = plt.axes(projection=ccrs.PlateCarree())\n",
    "\n",
    "# Add basic features: coastlines and country borders\n",
    "ax.coastlines()\n",
    "ax.add_feature(cfeature.BORDERS)\n",
    "\n",
    "# Add gridlines\n",
    "ax.grid(True)\n",
    "\n",
    "# Set the title\n",
    "ax.set_title('Simple World Map')\n",
    "\n",
    "# Show the plot\n",
    "plt.show()\n"
   ]
  },
  {
   "cell_type": "code",
   "execution_count": null,
   "id": "b62fcfd6",
   "metadata": {},
   "outputs": [],
   "source": [
    "import pandas as pd\n",
    "import seaborn as sns\n",
    "import matplotlib.pyplot as plt\n",
    "\n",
    "# Load the dataset\n",
    "hr_attrition = pd.read_csv('hr_attrition_employee')\n",
    "\n",
    "# Categorize Monthly Income into levels\n",
    "hr_attrition['IncomeLevel'] = pd.cut(\n",
    "    hr_attrition['MonthlyIncome'], \n",
    "    bins=[0, 3000, 8000, float('inf')], \n",
    "    labels=['Low', 'Medium', 'High']\n",
    ")\n",
    "\n",
    "# Create the Count Plot\n",
    "plt.figure(figsize=(8, 6))\n",
    "ax = sns.countplot(x='IncomeLevel', data=hr_attrition, palette='viridis', order=['Low', 'Medium', 'High'])\n",
    "\n",
    "# Add value labels directly using Seaborn's bar container\n",
    "for bar in ax.containers:\n",
    "    ax.bar_label(bar, label_type='edge', fontsize=10)\n",
    "\n",
    "plt.title('Count of Employees by Monthly Income Level', fontsize=14)\n",
    "plt.xlabel('Income Level', fontsize=12)\n",
    "plt.ylabel('Count', fontsize=12)\n",
    "plt.tight_layout()\n",
    "\n",
    "# Show the plot\n",
    "plt.show()\n"
   ]
  },
  {
   "cell_type": "code",
   "execution_count": null,
   "id": "9f4408ba",
   "metadata": {},
   "outputs": [],
   "source": [
    "sns.boxplot(x='day', y='total_bill', data=tips)"
   ]
  }
 ],
 "metadata": {
  "kernelspec": {
   "display_name": "Python 3 (ipykernel)",
   "language": "python",
   "name": "python3"
  },
  "language_info": {
   "codemirror_mode": {
    "name": "ipython",
    "version": 3
   },
   "file_extension": ".py",
   "mimetype": "text/x-python",
   "name": "python",
   "nbconvert_exporter": "python",
   "pygments_lexer": "ipython3",
   "version": "3.12.7"
  }
 },
 "nbformat": 4,
 "nbformat_minor": 5
}
